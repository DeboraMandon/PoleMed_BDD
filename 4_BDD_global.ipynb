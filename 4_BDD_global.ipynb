{
 "cells": [
  {
   "cell_type": "code",
   "execution_count": 19,
   "metadata": {},
   "outputs": [],
   "source": [
    "import pandas as pd\n",
    "import glob\n",
    "import numpy as np\n",
    "import re"
   ]
  },
  {
   "cell_type": "code",
   "execution_count": 2,
   "metadata": {},
   "outputs": [],
   "source": [
    "df1=pd.read_csv('Concat_df.csv')\n",
    "df2=pd.read_csv('new_data.csv')"
   ]
  },
  {
   "cell_type": "code",
   "execution_count": 3,
   "metadata": {},
   "outputs": [],
   "source": [
    "dfs = [df1, df2]\n",
    "\n",
    "# Concaténez les DataFrames de la liste en utilisant la fonction concat()\n",
    "data = pd.concat(dfs)\n",
    "\n",
    "# Réinitialisez l'index du DataFrame concaténé\n",
    "data.reset_index(drop=True, inplace=True)\n"
   ]
  },
  {
   "cell_type": "code",
   "execution_count": 4,
   "metadata": {},
   "outputs": [],
   "source": [
    "data['Nom_Prenom']=data['Nom_Prenom'].str.upper()"
   ]
  },
  {
   "cell_type": "code",
   "execution_count": 5,
   "metadata": {},
   "outputs": [],
   "source": [
    "data['Associé']=data['Associé'].fillna('Remplaçant')"
   ]
  },
  {
   "cell_type": "code",
   "execution_count": 6,
   "metadata": {},
   "outputs": [],
   "source": [
    "data['Date_Heure_Fin'] = pd.to_datetime(data['Date_Heure_Fin'])\n",
    "data['Date_Heure_Début'] = pd.to_datetime(data['Date_Heure_Début'])\n",
    "\n",
    "data['Durée'] = data['Date_Heure_Fin'] - data['Date_Heure_Début']"
   ]
  },
  {
   "cell_type": "code",
   "execution_count": 7,
   "metadata": {},
   "outputs": [
    {
     "name": "stdout",
     "output_type": "stream",
     "text": [
      "<class 'pandas.core.frame.DataFrame'>\n",
      "RangeIndex: 47510 entries, 0 to 47509\n",
      "Data columns (total 14 columns):\n",
      " #   Column            Non-Null Count  Dtype          \n",
      "---  ------            --------------  -----          \n",
      " 0   Source            47510 non-null  object         \n",
      " 1   Nom_Prenom        47510 non-null  object         \n",
      " 2   Date              47510 non-null  object         \n",
      " 3   Heure_Début       47510 non-null  object         \n",
      " 4   Heure_Fin         47510 non-null  object         \n",
      " 5   Horaire           47510 non-null  object         \n",
      " 6   Date_Heure_Fin    47510 non-null  datetime64[ns] \n",
      " 7   Date_Heure_Début  47510 non-null  datetime64[ns] \n",
      " 8   Associé           47510 non-null  object         \n",
      " 9   mail              33241 non-null  object         \n",
      " 10  Site              33283 non-null  object         \n",
      " 11  Chef              6313 non-null   object         \n",
      " 12  Formation         6269 non-null   object         \n",
      " 13  Durée             47510 non-null  timedelta64[ns]\n",
      "dtypes: datetime64[ns](2), object(11), timedelta64[ns](1)\n",
      "memory usage: 5.1+ MB\n"
     ]
    }
   ],
   "source": [
    "data.info()"
   ]
  },
  {
   "cell_type": "code",
   "execution_count": 8,
   "metadata": {},
   "outputs": [
    {
     "data": {
      "text/html": [
       "<div>\n",
       "<style scoped>\n",
       "    .dataframe tbody tr th:only-of-type {\n",
       "        vertical-align: middle;\n",
       "    }\n",
       "\n",
       "    .dataframe tbody tr th {\n",
       "        vertical-align: top;\n",
       "    }\n",
       "\n",
       "    .dataframe thead th {\n",
       "        text-align: right;\n",
       "    }\n",
       "</style>\n",
       "<table border=\"1\" class=\"dataframe\">\n",
       "  <thead>\n",
       "    <tr style=\"text-align: right;\">\n",
       "      <th></th>\n",
       "      <th>Source</th>\n",
       "      <th>Nom_Prenom</th>\n",
       "      <th>Date</th>\n",
       "      <th>Heure_Début</th>\n",
       "      <th>Heure_Fin</th>\n",
       "      <th>Horaire</th>\n",
       "      <th>Date_Heure_Fin</th>\n",
       "      <th>Date_Heure_Début</th>\n",
       "      <th>Associé</th>\n",
       "      <th>mail</th>\n",
       "      <th>Site</th>\n",
       "      <th>Chef</th>\n",
       "      <th>Formation</th>\n",
       "      <th>Durée</th>\n",
       "    </tr>\n",
       "  </thead>\n",
       "  <tbody>\n",
       "    <tr>\n",
       "      <th>38057</th>\n",
       "      <td>PDS</td>\n",
       "      <td>RIVIERE CONSTANCE</td>\n",
       "      <td>29/03/2023</td>\n",
       "      <td>20:00:00</td>\n",
       "      <td>08:00:00</td>\n",
       "      <td>20:00:00 - 08:00:00</td>\n",
       "      <td>2023-03-30 08:00:00</td>\n",
       "      <td>2023-03-29 20:00:00</td>\n",
       "      <td>Interne</td>\n",
       "      <td>c.riviere@imadis.fr</td>\n",
       "      <td>Marseille</td>\n",
       "      <td>NaN</td>\n",
       "      <td>NaN</td>\n",
       "      <td>0 days 12:00:00</td>\n",
       "    </tr>\n",
       "    <tr>\n",
       "      <th>20837</th>\n",
       "      <td>CDS</td>\n",
       "      <td>CHAILLOT PIERRE-FLEURY</td>\n",
       "      <td>21/06/2023</td>\n",
       "      <td>08:00:00</td>\n",
       "      <td>13:00:00</td>\n",
       "      <td>08:00:00 - 13:00:00</td>\n",
       "      <td>2023-06-21 13:00:00</td>\n",
       "      <td>2023-06-21 08:00:00</td>\n",
       "      <td>Associé</td>\n",
       "      <td>pf.chaillot@imadis.fr</td>\n",
       "      <td>Lyon</td>\n",
       "      <td>NaN</td>\n",
       "      <td>NaN</td>\n",
       "      <td>0 days 05:00:00</td>\n",
       "    </tr>\n",
       "    <tr>\n",
       "      <th>12595</th>\n",
       "      <td>RRU</td>\n",
       "      <td>NIVET HUBERT</td>\n",
       "      <td>24/04/2020</td>\n",
       "      <td>12:00:00</td>\n",
       "      <td>13:00:00</td>\n",
       "      <td>12:00:00 - 13:00:00</td>\n",
       "      <td>2020-04-24 13:00:00</td>\n",
       "      <td>2020-04-24 12:00:00</td>\n",
       "      <td>Remplaçant</td>\n",
       "      <td>NaN</td>\n",
       "      <td>NaN</td>\n",
       "      <td>NaN</td>\n",
       "      <td>NaN</td>\n",
       "      <td>0 days 01:00:00</td>\n",
       "    </tr>\n",
       "  </tbody>\n",
       "</table>\n",
       "</div>"
      ],
      "text/plain": [
       "      Source              Nom_Prenom        Date Heure_Début Heure_Fin   \n",
       "38057    PDS       RIVIERE CONSTANCE  29/03/2023    20:00:00  08:00:00  \\\n",
       "20837    CDS  CHAILLOT PIERRE-FLEURY  21/06/2023    08:00:00  13:00:00   \n",
       "12595    RRU            NIVET HUBERT  24/04/2020    12:00:00  13:00:00   \n",
       "\n",
       "                   Horaire      Date_Heure_Fin    Date_Heure_Début   \n",
       "38057  20:00:00 - 08:00:00 2023-03-30 08:00:00 2023-03-29 20:00:00  \\\n",
       "20837  08:00:00 - 13:00:00 2023-06-21 13:00:00 2023-06-21 08:00:00   \n",
       "12595  12:00:00 - 13:00:00 2020-04-24 13:00:00 2020-04-24 12:00:00   \n",
       "\n",
       "          Associé                   mail       Site Chef Formation   \n",
       "38057     Interne    c.riviere@imadis.fr  Marseille  NaN       NaN  \\\n",
       "20837     Associé  pf.chaillot@imadis.fr       Lyon  NaN       NaN   \n",
       "12595  Remplaçant                    NaN        NaN  NaN       NaN   \n",
       "\n",
       "                Durée  \n",
       "38057 0 days 12:00:00  \n",
       "20837 0 days 05:00:00  \n",
       "12595 0 days 01:00:00  "
      ]
     },
     "execution_count": 8,
     "metadata": {},
     "output_type": "execute_result"
    }
   ],
   "source": [
    "data.sample(3)"
   ]
  },
  {
   "cell_type": "code",
   "execution_count": 9,
   "metadata": {},
   "outputs": [
    {
     "data": {
      "text/plain": [
       "(47510, 14)"
      ]
     },
     "execution_count": 9,
     "metadata": {},
     "output_type": "execute_result"
    }
   ],
   "source": [
    "data.shape"
   ]
  },
  {
   "cell_type": "code",
   "execution_count": 10,
   "metadata": {},
   "outputs": [
    {
     "data": {
      "text/plain": [
       "Source                  0\n",
       "Nom_Prenom              0\n",
       "Date                    0\n",
       "Heure_Début             0\n",
       "Heure_Fin               0\n",
       "Horaire                 0\n",
       "Date_Heure_Fin          0\n",
       "Date_Heure_Début        0\n",
       "Associé                 0\n",
       "mail                14269\n",
       "Site                14227\n",
       "Chef                41197\n",
       "Formation           41241\n",
       "Durée                   0\n",
       "dtype: int64"
      ]
     },
     "execution_count": 10,
     "metadata": {},
     "output_type": "execute_result"
    }
   ],
   "source": [
    "data.isna().sum()"
   ]
  },
  {
   "cell_type": "code",
   "execution_count": 11,
   "metadata": {},
   "outputs": [],
   "source": [
    "data['Durée']=data['Durée'].astype(str)"
   ]
  },
  {
   "cell_type": "code",
   "execution_count": 12,
   "metadata": {},
   "outputs": [],
   "source": [
    "data['Durée']=data['Durée'].str.split().str[2]"
   ]
  },
  {
   "cell_type": "code",
   "execution_count": 13,
   "metadata": {},
   "outputs": [],
   "source": [
    "data['Durée'] = data['Durée'].str.replace(\"+ \", \"\")\n",
    "data['Durée'] = data['Durée'].str.replace(\"+\", \"\")"
   ]
  },
  {
   "cell_type": "code",
   "execution_count": 16,
   "metadata": {},
   "outputs": [],
   "source": [
    "data['Durée'] = pd.to_timedelta(data['Durée'])\n",
    "\n",
    "# Calculez la durée en heures décimales\n",
    "data['Durée'] = data['Durée'].dt.total_seconds() / 3600"
   ]
  },
  {
   "cell_type": "code",
   "execution_count": 17,
   "metadata": {},
   "outputs": [
    {
     "data": {
      "text/html": [
       "<div>\n",
       "<style scoped>\n",
       "    .dataframe tbody tr th:only-of-type {\n",
       "        vertical-align: middle;\n",
       "    }\n",
       "\n",
       "    .dataframe tbody tr th {\n",
       "        vertical-align: top;\n",
       "    }\n",
       "\n",
       "    .dataframe thead th {\n",
       "        text-align: right;\n",
       "    }\n",
       "</style>\n",
       "<table border=\"1\" class=\"dataframe\">\n",
       "  <thead>\n",
       "    <tr style=\"text-align: right;\">\n",
       "      <th></th>\n",
       "      <th>Source</th>\n",
       "      <th>Nom_Prenom</th>\n",
       "      <th>Date</th>\n",
       "      <th>Heure_Début</th>\n",
       "      <th>Heure_Fin</th>\n",
       "      <th>Horaire</th>\n",
       "      <th>Date_Heure_Fin</th>\n",
       "      <th>Date_Heure_Début</th>\n",
       "      <th>Associé</th>\n",
       "      <th>mail</th>\n",
       "      <th>Site</th>\n",
       "      <th>Chef</th>\n",
       "      <th>Formation</th>\n",
       "      <th>Durée</th>\n",
       "    </tr>\n",
       "  </thead>\n",
       "  <tbody>\n",
       "    <tr>\n",
       "      <th>39841</th>\n",
       "      <td>PDS</td>\n",
       "      <td>A POURVOIR A POURVOIR</td>\n",
       "      <td>28/05/2023</td>\n",
       "      <td>08:00:00</td>\n",
       "      <td>20:00:00</td>\n",
       "      <td>08:00:00 - 20:00:00</td>\n",
       "      <td>2023-05-28 20:00:00</td>\n",
       "      <td>2023-05-28 08:00:00</td>\n",
       "      <td>Remplaçant</td>\n",
       "      <td>NaN</td>\n",
       "      <td>Dijon</td>\n",
       "      <td>NaN</td>\n",
       "      <td>NaN</td>\n",
       "      <td>12.0</td>\n",
       "    </tr>\n",
       "    <tr>\n",
       "      <th>4145</th>\n",
       "      <td>PDS</td>\n",
       "      <td>THIVOLET ARNAUD</td>\n",
       "      <td>25/04/2020</td>\n",
       "      <td>18:00:00</td>\n",
       "      <td>08:00:00</td>\n",
       "      <td>18:00:00 - 08:00:00</td>\n",
       "      <td>2020-04-25 08:00:00</td>\n",
       "      <td>2020-04-25 18:00:00</td>\n",
       "      <td>Remplaçant</td>\n",
       "      <td>NaN</td>\n",
       "      <td>NaN</td>\n",
       "      <td>NaN</td>\n",
       "      <td>NaN</td>\n",
       "      <td>14.0</td>\n",
       "    </tr>\n",
       "    <tr>\n",
       "      <th>37980</th>\n",
       "      <td>PDS</td>\n",
       "      <td>PERREY ANTOINE</td>\n",
       "      <td>27/03/2023</td>\n",
       "      <td>18:00:00</td>\n",
       "      <td>21:00:00</td>\n",
       "      <td>18:00:00 - 21:00:00</td>\n",
       "      <td>2023-03-27 21:00:00</td>\n",
       "      <td>2023-03-27 18:00:00</td>\n",
       "      <td>Associé</td>\n",
       "      <td>a.perrey@imadis.fr</td>\n",
       "      <td>Clermont-ferrand</td>\n",
       "      <td>NaN</td>\n",
       "      <td>NaN</td>\n",
       "      <td>3.0</td>\n",
       "    </tr>\n",
       "    <tr>\n",
       "      <th>11569</th>\n",
       "      <td>PDS</td>\n",
       "      <td>GORINCOUR GUILLAUME</td>\n",
       "      <td>05/06/2021</td>\n",
       "      <td>08:00:00</td>\n",
       "      <td>20:00:00</td>\n",
       "      <td>08:00:00 - 20:00:00</td>\n",
       "      <td>2021-06-05 20:00:00</td>\n",
       "      <td>2021-06-05 08:00:00</td>\n",
       "      <td>Remplaçant</td>\n",
       "      <td>NaN</td>\n",
       "      <td>NaN</td>\n",
       "      <td>NaN</td>\n",
       "      <td>NaN</td>\n",
       "      <td>12.0</td>\n",
       "    </tr>\n",
       "    <tr>\n",
       "      <th>22015</th>\n",
       "      <td>PDS</td>\n",
       "      <td>SALA VINCENT</td>\n",
       "      <td>22/08/2021</td>\n",
       "      <td>20:00:00</td>\n",
       "      <td>08:00:00</td>\n",
       "      <td>20:00:00 - 08:00:00</td>\n",
       "      <td>2021-08-23 08:00:00</td>\n",
       "      <td>2021-08-22 20:00:00</td>\n",
       "      <td>Interne</td>\n",
       "      <td>v.sala@imadis.fr</td>\n",
       "      <td>Bordeaux</td>\n",
       "      <td>NaN</td>\n",
       "      <td>NaN</td>\n",
       "      <td>12.0</td>\n",
       "    </tr>\n",
       "  </tbody>\n",
       "</table>\n",
       "</div>"
      ],
      "text/plain": [
       "      Source             Nom_Prenom        Date Heure_Début Heure_Fin   \n",
       "39841    PDS  A POURVOIR A POURVOIR  28/05/2023    08:00:00  20:00:00  \\\n",
       "4145     PDS        THIVOLET ARNAUD  25/04/2020    18:00:00  08:00:00   \n",
       "37980    PDS         PERREY ANTOINE  27/03/2023    18:00:00  21:00:00   \n",
       "11569    PDS    GORINCOUR GUILLAUME  05/06/2021    08:00:00  20:00:00   \n",
       "22015    PDS           SALA VINCENT  22/08/2021    20:00:00  08:00:00   \n",
       "\n",
       "                   Horaire      Date_Heure_Fin    Date_Heure_Début   \n",
       "39841  08:00:00 - 20:00:00 2023-05-28 20:00:00 2023-05-28 08:00:00  \\\n",
       "4145   18:00:00 - 08:00:00 2020-04-25 08:00:00 2020-04-25 18:00:00   \n",
       "37980  18:00:00 - 21:00:00 2023-03-27 21:00:00 2023-03-27 18:00:00   \n",
       "11569  08:00:00 - 20:00:00 2021-06-05 20:00:00 2021-06-05 08:00:00   \n",
       "22015  20:00:00 - 08:00:00 2021-08-23 08:00:00 2021-08-22 20:00:00   \n",
       "\n",
       "          Associé                mail              Site Chef Formation  Durée  \n",
       "39841  Remplaçant                 NaN             Dijon  NaN       NaN   12.0  \n",
       "4145   Remplaçant                 NaN               NaN  NaN       NaN   14.0  \n",
       "37980     Associé  a.perrey@imadis.fr  Clermont-ferrand  NaN       NaN    3.0  \n",
       "11569  Remplaçant                 NaN               NaN  NaN       NaN   12.0  \n",
       "22015     Interne    v.sala@imadis.fr          Bordeaux  NaN       NaN   12.0  "
      ]
     },
     "execution_count": 17,
     "metadata": {},
     "output_type": "execute_result"
    }
   ],
   "source": [
    "data.sample(5)"
   ]
  },
  {
   "cell_type": "code",
   "execution_count": 18,
   "metadata": {},
   "outputs": [],
   "source": [
    "data.to_csv('BDD.csv', index=False)"
   ]
  }
 ],
 "metadata": {
  "kernelspec": {
   "display_name": "base",
   "language": "python",
   "name": "python3"
  },
  "language_info": {
   "codemirror_mode": {
    "name": "ipython",
    "version": 3
   },
   "file_extension": ".py",
   "mimetype": "text/x-python",
   "name": "python",
   "nbconvert_exporter": "python",
   "pygments_lexer": "ipython3",
   "version": "3.9.16"
  },
  "orig_nbformat": 4
 },
 "nbformat": 4,
 "nbformat_minor": 2
}
