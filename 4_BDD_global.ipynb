{
 "cells": [
  {
   "cell_type": "code",
   "execution_count": 1,
   "metadata": {},
   "outputs": [],
   "source": [
    "import pandas as pd\n",
    "import glob\n",
    "import numpy as np\n",
    "import re"
   ]
  },
  {
   "cell_type": "code",
   "execution_count": 2,
   "metadata": {},
   "outputs": [],
   "source": [
    "df1=pd.read_csv('Concat_df.csv')\n",
    "df2=pd.read_csv('new_data.csv')"
   ]
  },
  {
   "cell_type": "code",
   "execution_count": 3,
   "metadata": {},
   "outputs": [],
   "source": [
    "dfs = [df1, df2]\n",
    "\n",
    "# Concaténez les DataFrames de la liste en utilisant la fonction concat()\n",
    "data = pd.concat(dfs)\n",
    "\n",
    "# Réinitialisez l'index du DataFrame concaténé\n",
    "data.reset_index(drop=True, inplace=True)\n"
   ]
  },
  {
   "cell_type": "code",
   "execution_count": 4,
   "metadata": {},
   "outputs": [],
   "source": [
    "data['Nom_Prenom']=data['Nom_Prenom'].str.upper()"
   ]
  },
  {
   "cell_type": "code",
   "execution_count": 5,
   "metadata": {},
   "outputs": [],
   "source": [
    "data['Associé']=data['Associé'].fillna('Remplaçant')"
   ]
  },
  {
   "cell_type": "code",
   "execution_count": 6,
   "metadata": {},
   "outputs": [],
   "source": [
    "data['Date_Heure_Fin'] = pd.to_datetime(data['Date_Heure_Fin'])\n",
    "data['Date_Heure_Début'] = pd.to_datetime(data['Date_Heure_Début'])\n",
    "\n",
    "data['Durée'] = data['Date_Heure_Fin'] - data['Date_Heure_Début']"
   ]
  },
  {
   "cell_type": "code",
   "execution_count": 7,
   "metadata": {},
   "outputs": [
    {
     "name": "stdout",
     "output_type": "stream",
     "text": [
      "<class 'pandas.core.frame.DataFrame'>\n",
      "RangeIndex: 47521 entries, 0 to 47520\n",
      "Data columns (total 15 columns):\n",
      " #   Column            Non-Null Count  Dtype          \n",
      "---  ------            --------------  -----          \n",
      " 0   Source            47521 non-null  object         \n",
      " 1   Nom_Prenom        47521 non-null  object         \n",
      " 2   Date              47521 non-null  object         \n",
      " 3   Heure_Début       47521 non-null  object         \n",
      " 4   Heure_Fin         47521 non-null  object         \n",
      " 5   Horaire           47521 non-null  object         \n",
      " 6   Date_Heure_Fin    47521 non-null  datetime64[ns] \n",
      " 7   Date_Heure_Début  47521 non-null  datetime64[ns] \n",
      " 8   Associé           47521 non-null  object         \n",
      " 9   mail              33303 non-null  object         \n",
      " 10  Site              33339 non-null  object         \n",
      " 11  Jour/Nuit         33880 non-null  object         \n",
      " 12  Chef              6362 non-null   object         \n",
      " 13  Formation         6270 non-null   object         \n",
      " 14  Durée             47521 non-null  timedelta64[ns]\n",
      "dtypes: datetime64[ns](2), object(12), timedelta64[ns](1)\n",
      "memory usage: 5.4+ MB\n"
     ]
    }
   ],
   "source": [
    "data.info()"
   ]
  },
  {
   "cell_type": "code",
   "execution_count": 8,
   "metadata": {},
   "outputs": [],
   "source": [
    "data=data.drop_duplicates()"
   ]
  },
  {
   "cell_type": "code",
   "execution_count": 9,
   "metadata": {},
   "outputs": [
    {
     "data": {
      "text/html": [
       "<div>\n",
       "<style scoped>\n",
       "    .dataframe tbody tr th:only-of-type {\n",
       "        vertical-align: middle;\n",
       "    }\n",
       "\n",
       "    .dataframe tbody tr th {\n",
       "        vertical-align: top;\n",
       "    }\n",
       "\n",
       "    .dataframe thead th {\n",
       "        text-align: right;\n",
       "    }\n",
       "</style>\n",
       "<table border=\"1\" class=\"dataframe\">\n",
       "  <thead>\n",
       "    <tr style=\"text-align: right;\">\n",
       "      <th></th>\n",
       "      <th>Source</th>\n",
       "      <th>Nom_Prenom</th>\n",
       "      <th>Date</th>\n",
       "      <th>Heure_Début</th>\n",
       "      <th>Heure_Fin</th>\n",
       "      <th>Horaire</th>\n",
       "      <th>Date_Heure_Fin</th>\n",
       "      <th>Date_Heure_Début</th>\n",
       "      <th>Associé</th>\n",
       "      <th>mail</th>\n",
       "      <th>Site</th>\n",
       "      <th>Jour/Nuit</th>\n",
       "      <th>Chef</th>\n",
       "      <th>Formation</th>\n",
       "      <th>Durée</th>\n",
       "    </tr>\n",
       "  </thead>\n",
       "  <tbody>\n",
       "    <tr>\n",
       "      <th>1939</th>\n",
       "      <td>CDS</td>\n",
       "      <td>HERMANT JULIEN</td>\n",
       "      <td>14/01/2021</td>\n",
       "      <td>13:00:00</td>\n",
       "      <td>18:00:00</td>\n",
       "      <td>13:00:00 - 18:00:00</td>\n",
       "      <td>2021-01-14 18:00:00</td>\n",
       "      <td>2021-01-14 13:00:00</td>\n",
       "      <td>Remplaçant</td>\n",
       "      <td>NaN</td>\n",
       "      <td>NaN</td>\n",
       "      <td>NaN</td>\n",
       "      <td>NaN</td>\n",
       "      <td>NaN</td>\n",
       "      <td>0 days 05:00:00</td>\n",
       "    </tr>\n",
       "    <tr>\n",
       "      <th>38980</th>\n",
       "      <td>PDS</td>\n",
       "      <td>GHELIS NIL</td>\n",
       "      <td>29/04/2023</td>\n",
       "      <td>15:00:00</td>\n",
       "      <td>08:00:00</td>\n",
       "      <td>15:00:00 - 08:00:00</td>\n",
       "      <td>2023-04-30 08:00:00</td>\n",
       "      <td>2023-04-29 15:00:00</td>\n",
       "      <td>Associé</td>\n",
       "      <td>n.ghelis@imadis.fr</td>\n",
       "      <td>Lyon</td>\n",
       "      <td>Nuit</td>\n",
       "      <td>NaN</td>\n",
       "      <td>NaN</td>\n",
       "      <td>0 days 17:00:00</td>\n",
       "    </tr>\n",
       "    <tr>\n",
       "      <th>18526</th>\n",
       "      <td>CDS</td>\n",
       "      <td>ARNAUD FRANÇOIS</td>\n",
       "      <td>17/10/2022</td>\n",
       "      <td>09:00:00</td>\n",
       "      <td>14:00:00</td>\n",
       "      <td>09:00:00 - 14:00:00</td>\n",
       "      <td>2022-10-17 14:00:00</td>\n",
       "      <td>2022-10-17 09:00:00</td>\n",
       "      <td>Associé</td>\n",
       "      <td>f.arnaud@imadis.fr</td>\n",
       "      <td>Marseille</td>\n",
       "      <td>Journée</td>\n",
       "      <td>NaN</td>\n",
       "      <td>NaN</td>\n",
       "      <td>0 days 05:00:00</td>\n",
       "    </tr>\n",
       "  </tbody>\n",
       "</table>\n",
       "</div>"
      ],
      "text/plain": [
       "      Source       Nom_Prenom        Date Heure_Début Heure_Fin  \\\n",
       "1939     CDS   HERMANT JULIEN  14/01/2021    13:00:00  18:00:00   \n",
       "38980    PDS       GHELIS NIL  29/04/2023    15:00:00  08:00:00   \n",
       "18526    CDS  ARNAUD FRANÇOIS  17/10/2022    09:00:00  14:00:00   \n",
       "\n",
       "                   Horaire      Date_Heure_Fin    Date_Heure_Début  \\\n",
       "1939   13:00:00 - 18:00:00 2021-01-14 18:00:00 2021-01-14 13:00:00   \n",
       "38980  15:00:00 - 08:00:00 2023-04-30 08:00:00 2023-04-29 15:00:00   \n",
       "18526  09:00:00 - 14:00:00 2022-10-17 14:00:00 2022-10-17 09:00:00   \n",
       "\n",
       "          Associé                mail       Site Jour/Nuit Chef Formation  \\\n",
       "1939   Remplaçant                 NaN        NaN       NaN  NaN       NaN   \n",
       "38980     Associé  n.ghelis@imadis.fr       Lyon      Nuit  NaN       NaN   \n",
       "18526     Associé  f.arnaud@imadis.fr  Marseille   Journée  NaN       NaN   \n",
       "\n",
       "                Durée  \n",
       "1939  0 days 05:00:00  \n",
       "38980 0 days 17:00:00  \n",
       "18526 0 days 05:00:00  "
      ]
     },
     "execution_count": 9,
     "metadata": {},
     "output_type": "execute_result"
    }
   ],
   "source": [
    "data.sample(3)"
   ]
  },
  {
   "cell_type": "code",
   "execution_count": 10,
   "metadata": {},
   "outputs": [
    {
     "data": {
      "text/plain": [
       "(45201, 15)"
      ]
     },
     "execution_count": 10,
     "metadata": {},
     "output_type": "execute_result"
    }
   ],
   "source": [
    "data.shape"
   ]
  },
  {
   "cell_type": "code",
   "execution_count": 11,
   "metadata": {},
   "outputs": [
    {
     "data": {
      "text/plain": [
       "Source                  0\n",
       "Nom_Prenom              0\n",
       "Date                    0\n",
       "Heure_Début             0\n",
       "Heure_Fin               0\n",
       "Horaire                 0\n",
       "Date_Heure_Fin          0\n",
       "Date_Heure_Début        0\n",
       "Associé                 0\n",
       "mail                13899\n",
       "Site                13875\n",
       "Jour/Nuit           13641\n",
       "Chef                39059\n",
       "Formation           38967\n",
       "Durée                   0\n",
       "dtype: int64"
      ]
     },
     "execution_count": 11,
     "metadata": {},
     "output_type": "execute_result"
    }
   ],
   "source": [
    "data.isna().sum()"
   ]
  },
  {
   "cell_type": "code",
   "execution_count": 12,
   "metadata": {},
   "outputs": [],
   "source": [
    "data['Durée']=data['Durée'].astype(str)"
   ]
  },
  {
   "cell_type": "code",
   "execution_count": 13,
   "metadata": {},
   "outputs": [],
   "source": [
    "data['Durée']=data['Durée'].str.split().str[2]"
   ]
  },
  {
   "cell_type": "code",
   "execution_count": 14,
   "metadata": {},
   "outputs": [
    {
     "name": "stderr",
     "output_type": "stream",
     "text": [
      "C:\\Users\\d.mandon\\AppData\\Local\\Temp\\ipykernel_13408\\1769604156.py:2: FutureWarning: The default value of regex will change from True to False in a future version. In addition, single character regular expressions will *not* be treated as literal strings when regex=True.\n",
      "  data['Durée'] = data['Durée'].str.replace(\"+\", \"\")\n"
     ]
    }
   ],
   "source": [
    "#data['Durée'] = data['Durée'].str.replace(\"+ \", \"\")\n",
    "data['Durée'] = data['Durée'].str.replace(\"+\", \"\")"
   ]
  },
  {
   "cell_type": "code",
   "execution_count": 15,
   "metadata": {},
   "outputs": [],
   "source": [
    "data['Durée'] = pd.to_timedelta(data['Durée'])\n",
    "\n",
    "# Calculez la durée en heures décimales\n",
    "data['Durée'] = data['Durée'].dt.total_seconds() / 3600"
   ]
  },
  {
   "cell_type": "code",
   "execution_count": 16,
   "metadata": {},
   "outputs": [
    {
     "data": {
      "text/html": [
       "<div>\n",
       "<style scoped>\n",
       "    .dataframe tbody tr th:only-of-type {\n",
       "        vertical-align: middle;\n",
       "    }\n",
       "\n",
       "    .dataframe tbody tr th {\n",
       "        vertical-align: top;\n",
       "    }\n",
       "\n",
       "    .dataframe thead th {\n",
       "        text-align: right;\n",
       "    }\n",
       "</style>\n",
       "<table border=\"1\" class=\"dataframe\">\n",
       "  <thead>\n",
       "    <tr style=\"text-align: right;\">\n",
       "      <th></th>\n",
       "      <th>Source</th>\n",
       "      <th>Nom_Prenom</th>\n",
       "      <th>Date</th>\n",
       "      <th>Heure_Début</th>\n",
       "      <th>Heure_Fin</th>\n",
       "      <th>Horaire</th>\n",
       "      <th>Date_Heure_Fin</th>\n",
       "      <th>Date_Heure_Début</th>\n",
       "      <th>Associé</th>\n",
       "      <th>mail</th>\n",
       "      <th>Site</th>\n",
       "      <th>Jour/Nuit</th>\n",
       "      <th>Chef</th>\n",
       "      <th>Formation</th>\n",
       "      <th>Durée</th>\n",
       "    </tr>\n",
       "  </thead>\n",
       "  <tbody>\n",
       "    <tr>\n",
       "      <th>17820</th>\n",
       "      <td>CDS</td>\n",
       "      <td>RENOSI GUILLAUME</td>\n",
       "      <td>19/07/2022</td>\n",
       "      <td>08:00:00</td>\n",
       "      <td>13:00:00</td>\n",
       "      <td>08:00:00 - 13:00:00</td>\n",
       "      <td>2022-07-19 13:00:00</td>\n",
       "      <td>2022-07-19 08:00:00</td>\n",
       "      <td>Associé</td>\n",
       "      <td>g.renosi@imadis.fr</td>\n",
       "      <td>Lyon</td>\n",
       "      <td>Journée</td>\n",
       "      <td>Chef de CDS</td>\n",
       "      <td>NaN</td>\n",
       "      <td>5.0</td>\n",
       "    </tr>\n",
       "    <tr>\n",
       "      <th>38024</th>\n",
       "      <td>PDS</td>\n",
       "      <td>SCHREINER CAMILLE</td>\n",
       "      <td>28/03/2023</td>\n",
       "      <td>20:00:00</td>\n",
       "      <td>08:00:00</td>\n",
       "      <td>20:00:00 - 08:00:00</td>\n",
       "      <td>2023-03-29 08:00:00</td>\n",
       "      <td>2023-03-28 20:00:00</td>\n",
       "      <td>Associé</td>\n",
       "      <td>c.schreiner@imadis.fr</td>\n",
       "      <td>Lyon</td>\n",
       "      <td>Nuit</td>\n",
       "      <td>NaN</td>\n",
       "      <td>NaN</td>\n",
       "      <td>12.0</td>\n",
       "    </tr>\n",
       "    <tr>\n",
       "      <th>28702</th>\n",
       "      <td>PDS</td>\n",
       "      <td>RENOSI GUILLAUME</td>\n",
       "      <td>14/05/2022</td>\n",
       "      <td>08:30:00</td>\n",
       "      <td>12:30:00</td>\n",
       "      <td>08:30:00 - 12:30:00</td>\n",
       "      <td>2022-05-14 12:30:00</td>\n",
       "      <td>2022-05-14 08:30:00</td>\n",
       "      <td>Associé</td>\n",
       "      <td>g.renosi@imadis.fr</td>\n",
       "      <td>Lyon</td>\n",
       "      <td>Journée</td>\n",
       "      <td>NaN</td>\n",
       "      <td>F2</td>\n",
       "      <td>4.0</td>\n",
       "    </tr>\n",
       "    <tr>\n",
       "      <th>31082</th>\n",
       "      <td>PDS</td>\n",
       "      <td>MORCET-DELATTRE THIBAUD</td>\n",
       "      <td>05/08/2022</td>\n",
       "      <td>20:00:00</td>\n",
       "      <td>08:00:00</td>\n",
       "      <td>20:00:00 - 08:00:00</td>\n",
       "      <td>2022-08-06 08:00:00</td>\n",
       "      <td>2022-08-05 20:00:00</td>\n",
       "      <td>Thèsé</td>\n",
       "      <td>t.morcet-delattre@imadis.fr</td>\n",
       "      <td>Rennes</td>\n",
       "      <td>Nuit</td>\n",
       "      <td>NaN</td>\n",
       "      <td>NaN</td>\n",
       "      <td>12.0</td>\n",
       "    </tr>\n",
       "    <tr>\n",
       "      <th>31117</th>\n",
       "      <td>PDS</td>\n",
       "      <td>RUIMY ALEXIS</td>\n",
       "      <td>07/08/2022</td>\n",
       "      <td>08:00:00</td>\n",
       "      <td>16:00:00</td>\n",
       "      <td>08:00:00 - 16:00:00</td>\n",
       "      <td>2022-08-07 16:00:00</td>\n",
       "      <td>2022-08-07 08:00:00</td>\n",
       "      <td>Interne</td>\n",
       "      <td>a.ruimy@imadis.fr</td>\n",
       "      <td>Marseille</td>\n",
       "      <td>Journée</td>\n",
       "      <td>NaN</td>\n",
       "      <td>NaN</td>\n",
       "      <td>8.0</td>\n",
       "    </tr>\n",
       "  </tbody>\n",
       "</table>\n",
       "</div>"
      ],
      "text/plain": [
       "      Source               Nom_Prenom        Date Heure_Début Heure_Fin  \\\n",
       "17820    CDS         RENOSI GUILLAUME  19/07/2022    08:00:00  13:00:00   \n",
       "38024    PDS        SCHREINER CAMILLE  28/03/2023    20:00:00  08:00:00   \n",
       "28702    PDS         RENOSI GUILLAUME  14/05/2022    08:30:00  12:30:00   \n",
       "31082    PDS  MORCET-DELATTRE THIBAUD  05/08/2022    20:00:00  08:00:00   \n",
       "31117    PDS             RUIMY ALEXIS  07/08/2022    08:00:00  16:00:00   \n",
       "\n",
       "                   Horaire      Date_Heure_Fin    Date_Heure_Début  Associé  \\\n",
       "17820  08:00:00 - 13:00:00 2022-07-19 13:00:00 2022-07-19 08:00:00  Associé   \n",
       "38024  20:00:00 - 08:00:00 2023-03-29 08:00:00 2023-03-28 20:00:00  Associé   \n",
       "28702  08:30:00 - 12:30:00 2022-05-14 12:30:00 2022-05-14 08:30:00  Associé   \n",
       "31082  20:00:00 - 08:00:00 2022-08-06 08:00:00 2022-08-05 20:00:00    Thèsé   \n",
       "31117  08:00:00 - 16:00:00 2022-08-07 16:00:00 2022-08-07 08:00:00  Interne   \n",
       "\n",
       "                              mail       Site Jour/Nuit         Chef  \\\n",
       "17820           g.renosi@imadis.fr       Lyon   Journée  Chef de CDS   \n",
       "38024        c.schreiner@imadis.fr       Lyon      Nuit          NaN   \n",
       "28702           g.renosi@imadis.fr       Lyon   Journée          NaN   \n",
       "31082  t.morcet-delattre@imadis.fr     Rennes      Nuit          NaN   \n",
       "31117            a.ruimy@imadis.fr  Marseille   Journée          NaN   \n",
       "\n",
       "      Formation  Durée  \n",
       "17820       NaN    5.0  \n",
       "38024       NaN   12.0  \n",
       "28702        F2    4.0  \n",
       "31082       NaN   12.0  \n",
       "31117       NaN    8.0  "
      ]
     },
     "execution_count": 16,
     "metadata": {},
     "output_type": "execute_result"
    }
   ],
   "source": [
    "data.sample(5)"
   ]
  },
  {
   "cell_type": "code",
   "execution_count": 17,
   "metadata": {},
   "outputs": [],
   "source": [
    "data.to_csv('BDD.csv', index=False)"
   ]
  }
 ],
 "metadata": {
  "kernelspec": {
   "display_name": "base",
   "language": "python",
   "name": "python3"
  },
  "language_info": {
   "codemirror_mode": {
    "name": "ipython",
    "version": 3
   },
   "file_extension": ".py",
   "mimetype": "text/x-python",
   "name": "python",
   "nbconvert_exporter": "python",
   "pygments_lexer": "ipython3",
   "version": "3.10.9"
  },
  "orig_nbformat": 4
 },
 "nbformat": 4,
 "nbformat_minor": 2
}
