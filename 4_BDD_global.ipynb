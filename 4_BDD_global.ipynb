{
 "cells": [
  {
   "cell_type": "code",
   "execution_count": 1,
   "metadata": {},
   "outputs": [],
   "source": [
    "import pandas as pd\n",
    "import glob\n",
    "import numpy as np\n",
    "import re\n",
    "import getpass"
   ]
  },
  {
   "cell_type": "code",
   "execution_count": 2,
   "metadata": {},
   "outputs": [],
   "source": [
    "# utilisateurs\n",
    "username = getpass.getuser()"
   ]
  },
  {
   "cell_type": "code",
   "execution_count": 3,
   "metadata": {},
   "outputs": [],
   "source": [
    "df1=pd.read_csv('C:/Users/'+username+'/Imadis Téléradiologie/INTRANET - IMADIS/QUALITE/7- RHM/15 - DMA/GitHub/data/Concat_df.csv')\n",
    "df2=pd.read_csv('C:/Users/'+username+'/Imadis Téléradiologie/INTRANET - IMADIS/QUALITE/7- RHM/15 - DMA/GitHub/data/new_data.csv')\n"
   ]
  },
  {
   "cell_type": "code",
   "execution_count": 4,
   "metadata": {},
   "outputs": [],
   "source": [
    "dfs = [df1, df2]\n",
    "\n",
    "# Concaténez les DataFrames de la liste en utilisant la fonction concat()\n",
    "data = pd.concat(dfs)\n",
    "\n",
    "# Réinitialisez l'index du DataFrame concaténé\n",
    "data.reset_index(drop=True, inplace=True)\n"
   ]
  },
  {
   "cell_type": "code",
   "execution_count": 5,
   "metadata": {},
   "outputs": [],
   "source": [
    "data['Nom_Prenom']=data['Nom_Prenom'].str.upper()\n",
    "\n",
    "data['Associé']=data['Associé'].fillna('Remplaçant')"
   ]
  },
  {
   "cell_type": "code",
   "execution_count": 6,
   "metadata": {},
   "outputs": [],
   "source": [
    "data['Date_Heure_Fin'] = pd.to_datetime(data['Date_Heure_Fin'])\n",
    "data['Date_Heure_Début'] = pd.to_datetime(data['Date_Heure_Début'])\n",
    "\n",
    "data['Durée'] = data['Date_Heure_Fin'] - data['Date_Heure_Début']"
   ]
  },
  {
   "cell_type": "code",
   "execution_count": 7,
   "metadata": {},
   "outputs": [
    {
     "data": {
      "text/html": [
       "<div>\n",
       "<style scoped>\n",
       "    .dataframe tbody tr th:only-of-type {\n",
       "        vertical-align: middle;\n",
       "    }\n",
       "\n",
       "    .dataframe tbody tr th {\n",
       "        vertical-align: top;\n",
       "    }\n",
       "\n",
       "    .dataframe thead th {\n",
       "        text-align: right;\n",
       "    }\n",
       "</style>\n",
       "<table border=\"1\" class=\"dataframe\">\n",
       "  <thead>\n",
       "    <tr style=\"text-align: right;\">\n",
       "      <th></th>\n",
       "      <th>Source</th>\n",
       "      <th>Nom_Prenom</th>\n",
       "      <th>Date</th>\n",
       "      <th>Heure_Début</th>\n",
       "      <th>Heure_Fin</th>\n",
       "      <th>Horaire</th>\n",
       "      <th>Date_Heure_Début</th>\n",
       "      <th>Date_Heure_Fin</th>\n",
       "      <th>Associé</th>\n",
       "      <th>mail</th>\n",
       "      <th>Site</th>\n",
       "      <th>Jour/Nuit</th>\n",
       "      <th>Chef</th>\n",
       "      <th>Formation</th>\n",
       "      <th>Durée</th>\n",
       "    </tr>\n",
       "  </thead>\n",
       "  <tbody>\n",
       "    <tr>\n",
       "      <th>35451</th>\n",
       "      <td>PDS</td>\n",
       "      <td>BILLARD FÉLIX</td>\n",
       "      <td>2023-01-29</td>\n",
       "      <td>20:00:00</td>\n",
       "      <td>08:00:00</td>\n",
       "      <td>20:00:00 - 08:00:00</td>\n",
       "      <td>2023-01-29 20:00:00</td>\n",
       "      <td>2023-01-30 08:00:00</td>\n",
       "      <td>Interne</td>\n",
       "      <td>f.billard@imadis.fr</td>\n",
       "      <td>Rennes</td>\n",
       "      <td>Nuit</td>\n",
       "      <td>NaN</td>\n",
       "      <td>NaN</td>\n",
       "      <td>0 days 12:00:00</td>\n",
       "    </tr>\n",
       "    <tr>\n",
       "      <th>13467</th>\n",
       "      <td>RRU</td>\n",
       "      <td>POURRIOL LAURENT</td>\n",
       "      <td>2021-05-03</td>\n",
       "      <td>13:00:00</td>\n",
       "      <td>15:00:00</td>\n",
       "      <td>13:00:00 - 15:00:00</td>\n",
       "      <td>2021-05-03 13:00:00</td>\n",
       "      <td>2021-05-03 15:00:00</td>\n",
       "      <td>Remplaçant</td>\n",
       "      <td>NaN</td>\n",
       "      <td>NaN</td>\n",
       "      <td>NaN</td>\n",
       "      <td>NaN</td>\n",
       "      <td>NaN</td>\n",
       "      <td>0 days 02:00:00</td>\n",
       "    </tr>\n",
       "    <tr>\n",
       "      <th>37439</th>\n",
       "      <td>PDS</td>\n",
       "      <td>BISCHOFF-MERCIER ELODIE</td>\n",
       "      <td>2023-04-04</td>\n",
       "      <td>18:00:00</td>\n",
       "      <td>21:00:00</td>\n",
       "      <td>18:00:00 - 21:00:00</td>\n",
       "      <td>2023-04-04 18:00:00</td>\n",
       "      <td>2023-04-04 21:00:00</td>\n",
       "      <td>Associé</td>\n",
       "      <td>e.bischoff@imadis.fr</td>\n",
       "      <td>Lyon</td>\n",
       "      <td>Nuit</td>\n",
       "      <td>NaN</td>\n",
       "      <td>NaN</td>\n",
       "      <td>0 days 03:00:00</td>\n",
       "    </tr>\n",
       "    <tr>\n",
       "      <th>19380</th>\n",
       "      <td>CDS</td>\n",
       "      <td>MOUZA VIRGILE</td>\n",
       "      <td>2023-02-13</td>\n",
       "      <td>16:30:00</td>\n",
       "      <td>18:00:00</td>\n",
       "      <td>16:30:00 - 18:00:00</td>\n",
       "      <td>2023-02-13 16:30:00</td>\n",
       "      <td>2023-02-13 18:00:00</td>\n",
       "      <td>Interne</td>\n",
       "      <td>v.mouza@imadis.fr</td>\n",
       "      <td>Bordeaux</td>\n",
       "      <td>Journée</td>\n",
       "      <td>NaN</td>\n",
       "      <td>NaN</td>\n",
       "      <td>0 days 01:30:00</td>\n",
       "    </tr>\n",
       "    <tr>\n",
       "      <th>24880</th>\n",
       "      <td>PDS</td>\n",
       "      <td>CASALONGA FRANÇOIS</td>\n",
       "      <td>2022-01-17</td>\n",
       "      <td>20:00:00</td>\n",
       "      <td>08:00:00</td>\n",
       "      <td>20:00:00 - 08:00:00</td>\n",
       "      <td>2022-01-17 20:00:00</td>\n",
       "      <td>2022-01-18 08:00:00</td>\n",
       "      <td>Associé</td>\n",
       "      <td>f.casalonga@imadis.fr</td>\n",
       "      <td>Marseille</td>\n",
       "      <td>Nuit</td>\n",
       "      <td>Chef de site</td>\n",
       "      <td>NaN</td>\n",
       "      <td>0 days 12:00:00</td>\n",
       "    </tr>\n",
       "  </tbody>\n",
       "</table>\n",
       "</div>"
      ],
      "text/plain": [
       "      Source               Nom_Prenom        Date Heure_Début Heure_Fin  \\\n",
       "35451    PDS            BILLARD FÉLIX  2023-01-29    20:00:00  08:00:00   \n",
       "13467    RRU         POURRIOL LAURENT  2021-05-03    13:00:00  15:00:00   \n",
       "37439    PDS  BISCHOFF-MERCIER ELODIE  2023-04-04    18:00:00  21:00:00   \n",
       "19380    CDS            MOUZA VIRGILE  2023-02-13    16:30:00  18:00:00   \n",
       "24880    PDS       CASALONGA FRANÇOIS  2022-01-17    20:00:00  08:00:00   \n",
       "\n",
       "                   Horaire    Date_Heure_Début      Date_Heure_Fin  \\\n",
       "35451  20:00:00 - 08:00:00 2023-01-29 20:00:00 2023-01-30 08:00:00   \n",
       "13467  13:00:00 - 15:00:00 2021-05-03 13:00:00 2021-05-03 15:00:00   \n",
       "37439  18:00:00 - 21:00:00 2023-04-04 18:00:00 2023-04-04 21:00:00   \n",
       "19380  16:30:00 - 18:00:00 2023-02-13 16:30:00 2023-02-13 18:00:00   \n",
       "24880  20:00:00 - 08:00:00 2022-01-17 20:00:00 2022-01-18 08:00:00   \n",
       "\n",
       "          Associé                   mail       Site Jour/Nuit          Chef  \\\n",
       "35451     Interne    f.billard@imadis.fr     Rennes      Nuit           NaN   \n",
       "13467  Remplaçant                    NaN        NaN       NaN           NaN   \n",
       "37439     Associé   e.bischoff@imadis.fr       Lyon      Nuit           NaN   \n",
       "19380     Interne      v.mouza@imadis.fr   Bordeaux   Journée           NaN   \n",
       "24880     Associé  f.casalonga@imadis.fr  Marseille      Nuit  Chef de site   \n",
       "\n",
       "      Formation           Durée  \n",
       "35451       NaN 0 days 12:00:00  \n",
       "13467       NaN 0 days 02:00:00  \n",
       "37439       NaN 0 days 03:00:00  \n",
       "19380       NaN 0 days 01:30:00  \n",
       "24880       NaN 0 days 12:00:00  "
      ]
     },
     "execution_count": 7,
     "metadata": {},
     "output_type": "execute_result"
    }
   ],
   "source": [
    "data.sample(5)"
   ]
  },
  {
   "cell_type": "code",
   "execution_count": 8,
   "metadata": {},
   "outputs": [
    {
     "name": "stdout",
     "output_type": "stream",
     "text": [
      "<class 'pandas.core.frame.DataFrame'>\n",
      "RangeIndex: 44564 entries, 0 to 44563\n",
      "Data columns (total 15 columns):\n",
      " #   Column            Non-Null Count  Dtype          \n",
      "---  ------            --------------  -----          \n",
      " 0   Source            44564 non-null  object         \n",
      " 1   Nom_Prenom        44564 non-null  object         \n",
      " 2   Date              44564 non-null  object         \n",
      " 3   Heure_Début       44564 non-null  object         \n",
      " 4   Heure_Fin         44564 non-null  object         \n",
      " 5   Horaire           44564 non-null  object         \n",
      " 6   Date_Heure_Début  44564 non-null  datetime64[ns] \n",
      " 7   Date_Heure_Fin    44564 non-null  datetime64[ns] \n",
      " 8   Associé           44564 non-null  object         \n",
      " 9   mail              30839 non-null  object         \n",
      " 10  Site              30846 non-null  object         \n",
      " 11  Jour/Nuit         30923 non-null  object         \n",
      " 12  Chef              6047 non-null   object         \n",
      " 13  Formation         5637 non-null   object         \n",
      " 14  Durée             44564 non-null  timedelta64[ns]\n",
      "dtypes: datetime64[ns](2), object(12), timedelta64[ns](1)\n",
      "memory usage: 5.1+ MB\n"
     ]
    }
   ],
   "source": [
    "data.info()"
   ]
  },
  {
   "cell_type": "code",
   "execution_count": 9,
   "metadata": {},
   "outputs": [],
   "source": [
    "data=data.drop_duplicates(subset=['Nom_Prenom', 'Date', 'Horaire'], keep='last')"
   ]
  },
  {
   "cell_type": "code",
   "execution_count": 10,
   "metadata": {},
   "outputs": [
    {
     "data": {
      "text/html": [
       "<div>\n",
       "<style scoped>\n",
       "    .dataframe tbody tr th:only-of-type {\n",
       "        vertical-align: middle;\n",
       "    }\n",
       "\n",
       "    .dataframe tbody tr th {\n",
       "        vertical-align: top;\n",
       "    }\n",
       "\n",
       "    .dataframe thead th {\n",
       "        text-align: right;\n",
       "    }\n",
       "</style>\n",
       "<table border=\"1\" class=\"dataframe\">\n",
       "  <thead>\n",
       "    <tr style=\"text-align: right;\">\n",
       "      <th></th>\n",
       "      <th>Source</th>\n",
       "      <th>Nom_Prenom</th>\n",
       "      <th>Date</th>\n",
       "      <th>Heure_Début</th>\n",
       "      <th>Heure_Fin</th>\n",
       "      <th>Horaire</th>\n",
       "      <th>Date_Heure_Début</th>\n",
       "      <th>Date_Heure_Fin</th>\n",
       "      <th>Associé</th>\n",
       "      <th>mail</th>\n",
       "      <th>Site</th>\n",
       "      <th>Jour/Nuit</th>\n",
       "      <th>Chef</th>\n",
       "      <th>Formation</th>\n",
       "      <th>Durée</th>\n",
       "    </tr>\n",
       "  </thead>\n",
       "  <tbody>\n",
       "    <tr>\n",
       "      <th>24951</th>\n",
       "      <td>PDS</td>\n",
       "      <td>BISCHOFF-MERCIER ELODIE</td>\n",
       "      <td>2022-01-20</td>\n",
       "      <td>20:00:00</td>\n",
       "      <td>08:00:00</td>\n",
       "      <td>20:00:00 - 08:00:00</td>\n",
       "      <td>2022-01-20 20:00:00</td>\n",
       "      <td>2022-01-21 08:00:00</td>\n",
       "      <td>Associé</td>\n",
       "      <td>e.bischoff@imadis.fr</td>\n",
       "      <td>Lyon</td>\n",
       "      <td>Nuit</td>\n",
       "      <td>NaN</td>\n",
       "      <td>NaN</td>\n",
       "      <td>0 days 12:00:00</td>\n",
       "    </tr>\n",
       "    <tr>\n",
       "      <th>28256</th>\n",
       "      <td>PDS</td>\n",
       "      <td>DEMATONS MARINE</td>\n",
       "      <td>2022-05-26</td>\n",
       "      <td>20:00:00</td>\n",
       "      <td>08:00:00</td>\n",
       "      <td>20:00:00 - 08:00:00</td>\n",
       "      <td>2022-05-26 20:00:00</td>\n",
       "      <td>2022-05-27 08:00:00</td>\n",
       "      <td>Associé</td>\n",
       "      <td>m.dematons@imadis.fr</td>\n",
       "      <td>Lyon</td>\n",
       "      <td>Nuit</td>\n",
       "      <td>NaN</td>\n",
       "      <td>NaN</td>\n",
       "      <td>0 days 12:00:00</td>\n",
       "    </tr>\n",
       "    <tr>\n",
       "      <th>18760</th>\n",
       "      <td>CDS</td>\n",
       "      <td>BOUDINAUD CLAIRE</td>\n",
       "      <td>2022-12-12</td>\n",
       "      <td>08:00:00</td>\n",
       "      <td>13:00:00</td>\n",
       "      <td>08:00:00 - 13:00:00</td>\n",
       "      <td>2022-12-12 08:00:00</td>\n",
       "      <td>2022-12-12 13:00:00</td>\n",
       "      <td>Associé</td>\n",
       "      <td>c.boudinaud@imadis.fr</td>\n",
       "      <td>Clermont-ferrand</td>\n",
       "      <td>Journée</td>\n",
       "      <td>NaN</td>\n",
       "      <td>NaN</td>\n",
       "      <td>0 days 05:00:00</td>\n",
       "    </tr>\n",
       "  </tbody>\n",
       "</table>\n",
       "</div>"
      ],
      "text/plain": [
       "      Source               Nom_Prenom        Date Heure_Début Heure_Fin  \\\n",
       "24951    PDS  BISCHOFF-MERCIER ELODIE  2022-01-20    20:00:00  08:00:00   \n",
       "28256    PDS          DEMATONS MARINE  2022-05-26    20:00:00  08:00:00   \n",
       "18760    CDS         BOUDINAUD CLAIRE  2022-12-12    08:00:00  13:00:00   \n",
       "\n",
       "                   Horaire    Date_Heure_Début      Date_Heure_Fin  Associé  \\\n",
       "24951  20:00:00 - 08:00:00 2022-01-20 20:00:00 2022-01-21 08:00:00  Associé   \n",
       "28256  20:00:00 - 08:00:00 2022-05-26 20:00:00 2022-05-27 08:00:00  Associé   \n",
       "18760  08:00:00 - 13:00:00 2022-12-12 08:00:00 2022-12-12 13:00:00  Associé   \n",
       "\n",
       "                        mail              Site Jour/Nuit Chef Formation  \\\n",
       "24951   e.bischoff@imadis.fr              Lyon      Nuit  NaN       NaN   \n",
       "28256   m.dematons@imadis.fr              Lyon      Nuit  NaN       NaN   \n",
       "18760  c.boudinaud@imadis.fr  Clermont-ferrand   Journée  NaN       NaN   \n",
       "\n",
       "                Durée  \n",
       "24951 0 days 12:00:00  \n",
       "28256 0 days 12:00:00  \n",
       "18760 0 days 05:00:00  "
      ]
     },
     "execution_count": 10,
     "metadata": {},
     "output_type": "execute_result"
    }
   ],
   "source": [
    "data.sample(3)"
   ]
  },
  {
   "cell_type": "code",
   "execution_count": 11,
   "metadata": {},
   "outputs": [
    {
     "data": {
      "text/plain": [
       "(44510, 15)"
      ]
     },
     "execution_count": 11,
     "metadata": {},
     "output_type": "execute_result"
    }
   ],
   "source": [
    "data.shape"
   ]
  },
  {
   "cell_type": "code",
   "execution_count": 12,
   "metadata": {},
   "outputs": [
    {
     "data": {
      "text/plain": [
       "Source                  0\n",
       "Nom_Prenom              0\n",
       "Date                    0\n",
       "Heure_Début             0\n",
       "Heure_Fin               0\n",
       "Horaire                 0\n",
       "Date_Heure_Début        0\n",
       "Date_Heure_Fin          0\n",
       "Associé                 0\n",
       "mail                13681\n",
       "Site                13675\n",
       "Jour/Nuit           13618\n",
       "Chef                38465\n",
       "Formation           38877\n",
       "Durée                   0\n",
       "dtype: int64"
      ]
     },
     "execution_count": 12,
     "metadata": {},
     "output_type": "execute_result"
    }
   ],
   "source": [
    "data.isna().sum()"
   ]
  },
  {
   "cell_type": "code",
   "execution_count": 13,
   "metadata": {},
   "outputs": [],
   "source": [
    "data['Durée']=data['Durée'].astype(str)"
   ]
  },
  {
   "cell_type": "code",
   "execution_count": 14,
   "metadata": {},
   "outputs": [],
   "source": [
    "data['Durée']=data['Durée'].str.split().str[2]"
   ]
  },
  {
   "cell_type": "code",
   "execution_count": 15,
   "metadata": {},
   "outputs": [
    {
     "name": "stderr",
     "output_type": "stream",
     "text": [
      "C:\\Users\\d.mandon\\AppData\\Local\\Temp\\ipykernel_23948\\1769604156.py:2: FutureWarning: The default value of regex will change from True to False in a future version. In addition, single character regular expressions will *not* be treated as literal strings when regex=True.\n",
      "  data['Durée'] = data['Durée'].str.replace(\"+\", \"\")\n"
     ]
    }
   ],
   "source": [
    "#data['Durée'] = data['Durée'].str.replace(\"+ \", \"\")\n",
    "data['Durée'] = data['Durée'].str.replace(\"+\", \"\")"
   ]
  },
  {
   "cell_type": "code",
   "execution_count": 17,
   "metadata": {},
   "outputs": [],
   "source": [
    "data['Durée'] = pd.to_timedelta(data['Durée'])\n",
    "\n",
    "# Calculez la durée en heures décimales\n",
    "data['Durée'] = data['Durée'].dt.total_seconds() / 3600"
   ]
  },
  {
   "cell_type": "code",
   "execution_count": 1,
   "metadata": {},
   "outputs": [
    {
     "ename": "NameError",
     "evalue": "name 'data' is not defined",
     "output_type": "error",
     "traceback": [
      "\u001b[1;31m---------------------------------------------------------------------------\u001b[0m",
      "\u001b[1;31mNameError\u001b[0m                                 Traceback (most recent call last)",
      "Cell \u001b[1;32mIn[1], line 1\u001b[0m\n\u001b[1;32m----> 1\u001b[0m data\u001b[39m.\u001b[39msample(\u001b[39m5\u001b[39m)\n",
      "\u001b[1;31mNameError\u001b[0m: name 'data' is not defined"
     ]
    }
   ],
   "source": [
    "data.sample(5)"
   ]
  },
  {
   "cell_type": "code",
   "execution_count": 17,
   "metadata": {},
   "outputs": [],
   "source": [
    "data.to_csv('C:/Users/'+username+'/Imadis Téléradiologie/INTRANET - IMADIS/QUALITE/7- RHM/15 - DMA/GitHub/data/BDD.csv', index=False)"
   ]
  }
 ],
 "metadata": {
  "kernelspec": {
   "display_name": "base",
   "language": "python",
   "name": "python3"
  },
  "language_info": {
   "codemirror_mode": {
    "name": "ipython",
    "version": 3
   },
   "file_extension": ".py",
   "mimetype": "text/x-python",
   "name": "python",
   "nbconvert_exporter": "python",
   "pygments_lexer": "ipython3",
   "version": "3.10.9"
  },
  "orig_nbformat": 4
 },
 "nbformat": 4,
 "nbformat_minor": 2
}
