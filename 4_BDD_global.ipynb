{
 "cells": [
  {
   "cell_type": "code",
   "execution_count": 1,
   "metadata": {},
   "outputs": [],
   "source": [
    "import pandas as pd\n",
    "import glob\n",
    "import numpy as np\n",
    "import re"
   ]
  },
  {
   "cell_type": "code",
   "execution_count": 2,
   "metadata": {},
   "outputs": [],
   "source": [
    "df1=pd.read_csv('Concat_df.csv')\n",
    "df2=pd.read_csv('new_data.csv')"
   ]
  },
  {
   "cell_type": "code",
   "execution_count": 3,
   "metadata": {},
   "outputs": [],
   "source": [
    "dfs = [df1, df2]\n",
    "\n",
    "# Concaténez les DataFrames de la liste en utilisant la fonction concat()\n",
    "data = pd.concat(dfs)\n",
    "\n",
    "# Réinitialisez l'index du DataFrame concaténé\n",
    "data.reset_index(drop=True, inplace=True)\n"
   ]
  },
  {
   "cell_type": "code",
   "execution_count": 4,
   "metadata": {},
   "outputs": [],
   "source": [
    "data['Nom_Prenom']=data['Nom_Prenom'].str.upper()"
   ]
  },
  {
   "cell_type": "code",
   "execution_count": 5,
   "metadata": {},
   "outputs": [],
   "source": [
    "data['Associé']=data['Associé'].fillna('Remplaçant')"
   ]
  },
  {
   "cell_type": "code",
   "execution_count": 6,
   "metadata": {},
   "outputs": [
    {
     "data": {
      "text/html": [
       "<div>\n",
       "<style scoped>\n",
       "    .dataframe tbody tr th:only-of-type {\n",
       "        vertical-align: middle;\n",
       "    }\n",
       "\n",
       "    .dataframe tbody tr th {\n",
       "        vertical-align: top;\n",
       "    }\n",
       "\n",
       "    .dataframe thead th {\n",
       "        text-align: right;\n",
       "    }\n",
       "</style>\n",
       "<table border=\"1\" class=\"dataframe\">\n",
       "  <thead>\n",
       "    <tr style=\"text-align: right;\">\n",
       "      <th></th>\n",
       "      <th>Source</th>\n",
       "      <th>Nom_Prenom</th>\n",
       "      <th>Date</th>\n",
       "      <th>Heure_Début</th>\n",
       "      <th>Heure_Fin</th>\n",
       "      <th>Horaire</th>\n",
       "      <th>Date_Heure_Fin</th>\n",
       "      <th>Date_Heure_Début</th>\n",
       "      <th>Associé</th>\n",
       "      <th>mail</th>\n",
       "      <th>Site</th>\n",
       "      <th>Chef</th>\n",
       "      <th>Formation</th>\n",
       "    </tr>\n",
       "  </thead>\n",
       "  <tbody>\n",
       "    <tr>\n",
       "      <th>3325</th>\n",
       "      <td>PDS</td>\n",
       "      <td>BOUQUET GREGOIRE</td>\n",
       "      <td>23/02/2020</td>\n",
       "      <td>12:00:00</td>\n",
       "      <td>19:00:00</td>\n",
       "      <td>12:00:00 - 19:00:00</td>\n",
       "      <td>2020-02-23 19:00:00</td>\n",
       "      <td>2020-02-23 12:00:00</td>\n",
       "      <td>Remplaçant</td>\n",
       "      <td>NaN</td>\n",
       "      <td>NaN</td>\n",
       "      <td>NaN</td>\n",
       "      <td>NaN</td>\n",
       "    </tr>\n",
       "    <tr>\n",
       "      <th>24396</th>\n",
       "      <td>PDS</td>\n",
       "      <td>L'HUILLIER ROMAIN</td>\n",
       "      <td>28/11/2021</td>\n",
       "      <td>20:00:00</td>\n",
       "      <td>08:00:00</td>\n",
       "      <td>20:00:00 - 08:00:00</td>\n",
       "      <td>2021-11-29 08:00:00</td>\n",
       "      <td>2021-11-28 20:00:00</td>\n",
       "      <td>Interne</td>\n",
       "      <td>r.lhuillier@imadis.fr</td>\n",
       "      <td>Lyon</td>\n",
       "      <td>NaN</td>\n",
       "      <td>NaN</td>\n",
       "    </tr>\n",
       "    <tr>\n",
       "      <th>19870</th>\n",
       "      <td>CDS</td>\n",
       "      <td>LEMAISSI ROMAIN</td>\n",
       "      <td>10/03/2023</td>\n",
       "      <td>13:00:00</td>\n",
       "      <td>18:00:00</td>\n",
       "      <td>13:00:00 - 18:00:00</td>\n",
       "      <td>2023-03-10 18:00:00</td>\n",
       "      <td>2023-03-10 13:00:00</td>\n",
       "      <td>Interne</td>\n",
       "      <td>r.lemaissi@imadis.fr</td>\n",
       "      <td>Brest</td>\n",
       "      <td>NaN</td>\n",
       "      <td>NaN</td>\n",
       "    </tr>\n",
       "  </tbody>\n",
       "</table>\n",
       "</div>"
      ],
      "text/plain": [
       "      Source         Nom_Prenom        Date Heure_Début Heure_Fin   \n",
       "3325     PDS   BOUQUET GREGOIRE  23/02/2020    12:00:00  19:00:00  \\\n",
       "24396    PDS  L'HUILLIER ROMAIN  28/11/2021    20:00:00  08:00:00   \n",
       "19870    CDS    LEMAISSI ROMAIN  10/03/2023    13:00:00  18:00:00   \n",
       "\n",
       "                   Horaire       Date_Heure_Fin     Date_Heure_Début   \n",
       "3325   12:00:00 - 19:00:00  2020-02-23 19:00:00  2020-02-23 12:00:00  \\\n",
       "24396  20:00:00 - 08:00:00  2021-11-29 08:00:00  2021-11-28 20:00:00   \n",
       "19870  13:00:00 - 18:00:00  2023-03-10 18:00:00  2023-03-10 13:00:00   \n",
       "\n",
       "          Associé                   mail   Site Chef Formation  \n",
       "3325   Remplaçant                    NaN    NaN  NaN       NaN  \n",
       "24396     Interne  r.lhuillier@imadis.fr   Lyon  NaN       NaN  \n",
       "19870     Interne   r.lemaissi@imadis.fr  Brest  NaN       NaN  "
      ]
     },
     "execution_count": 6,
     "metadata": {},
     "output_type": "execute_result"
    }
   ],
   "source": [
    "data.sample(3)"
   ]
  },
  {
   "cell_type": "code",
   "execution_count": 7,
   "metadata": {},
   "outputs": [
    {
     "data": {
      "text/plain": [
       "(47495, 13)"
      ]
     },
     "execution_count": 7,
     "metadata": {},
     "output_type": "execute_result"
    }
   ],
   "source": [
    "data.shape"
   ]
  },
  {
   "cell_type": "code",
   "execution_count": 8,
   "metadata": {},
   "outputs": [
    {
     "data": {
      "text/plain": [
       "Source                  0\n",
       "Nom_Prenom              0\n",
       "Date                    0\n",
       "Heure_Début             0\n",
       "Heure_Fin               0\n",
       "Horaire                 0\n",
       "Date_Heure_Fin          0\n",
       "Date_Heure_Début        0\n",
       "Associé                 0\n",
       "mail                14265\n",
       "Site                14226\n",
       "Chef                41189\n",
       "Formation           41226\n",
       "dtype: int64"
      ]
     },
     "execution_count": 8,
     "metadata": {},
     "output_type": "execute_result"
    }
   ],
   "source": [
    "data.isna().sum()"
   ]
  },
  {
   "cell_type": "code",
   "execution_count": 9,
   "metadata": {},
   "outputs": [],
   "source": [
    "data.to_csv('BDD.csv', index=False)"
   ]
  }
 ],
 "metadata": {
  "kernelspec": {
   "display_name": "base",
   "language": "python",
   "name": "python3"
  },
  "language_info": {
   "codemirror_mode": {
    "name": "ipython",
    "version": 3
   },
   "file_extension": ".py",
   "mimetype": "text/x-python",
   "name": "python",
   "nbconvert_exporter": "python",
   "pygments_lexer": "ipython3",
   "version": "3.9.16"
  },
  "orig_nbformat": 4
 },
 "nbformat": 4,
 "nbformat_minor": 2
}
