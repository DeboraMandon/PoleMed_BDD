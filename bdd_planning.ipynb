{
 "cells": [
  {
   "cell_type": "code",
   "execution_count": 2,
   "metadata": {},
   "outputs": [],
   "source": [
    "import pandas as pd\n",
    "import glob"
   ]
  },
  {
   "cell_type": "code",
   "execution_count": 13,
   "metadata": {},
   "outputs": [],
   "source": [
    "download_folder = 'C:/Users/d.mandon/Downloads/'\n",
    "excel_files = glob.glob(download_folder + 'export*.xlsx')"
   ]
  },
  {
   "cell_type": "code",
   "execution_count": 15,
   "metadata": {},
   "outputs": [
    {
     "data": {
      "text/plain": [
       "['C:/Users/d.mandon/Downloads\\\\export (1).xlsx',\n",
       " 'C:/Users/d.mandon/Downloads\\\\export (2).xlsx',\n",
       " 'C:/Users/d.mandon/Downloads\\\\export (3).xlsx',\n",
       " 'C:/Users/d.mandon/Downloads\\\\export (4).xlsx',\n",
       " 'C:/Users/d.mandon/Downloads\\\\export (5).xlsx']"
      ]
     },
     "execution_count": 15,
     "metadata": {},
     "output_type": "execute_result"
    }
   ],
   "source": [
    "excel_files[:5]"
   ]
  },
  {
   "cell_type": "code",
   "execution_count": 16,
   "metadata": {},
   "outputs": [],
   "source": [
    "df1=pd.read_excel(excel_files[0], header=None)\n",
    "df2=pd.read_excel(excel_files[1], header=None)\n",
    "df3=pd.read_excel(excel_files[2], header=None)\n",
    "df4=pd.read_excel(excel_files[3], header=None)\n",
    "df5=pd.read_excel(excel_files[4], header=None)\n",
    "df6=pd.read_excel(excel_files[5], header=None)"
   ]
  },
  {
   "cell_type": "code",
   "execution_count": 18,
   "metadata": {},
   "outputs": [],
   "source": [
    "df=pd.read_excel('')"
   ]
  },
  {
   "cell_type": "code",
   "execution_count": 19,
   "metadata": {},
   "outputs": [
    {
     "data": {
      "text/plain": [
       "[]"
      ]
     },
     "execution_count": 19,
     "metadata": {},
     "output_type": "execute_result"
    }
   ],
   "source": [
    "excel_files2"
   ]
  }
 ],
 "metadata": {
  "kernelspec": {
   "display_name": "base",
   "language": "python",
   "name": "python3"
  },
  "language_info": {
   "codemirror_mode": {
    "name": "ipython",
    "version": 3
   },
   "file_extension": ".py",
   "mimetype": "text/x-python",
   "name": "python",
   "nbconvert_exporter": "python",
   "pygments_lexer": "ipython3",
   "version": "3.9.16"
  },
  "orig_nbformat": 4
 },
 "nbformat": 4,
 "nbformat_minor": 2
}
