{
 "cells": [
  {
   "cell_type": "code",
   "execution_count": 1,
   "metadata": {},
   "outputs": [],
   "source": [
    "import os\n",
    "from selenium import webdriver #Webdriver de Selenium qui permet de contrôler un navigateur\n",
    "from selenium.webdriver.common.by import By #Permet d'accéder aux différents élements de la page web\n",
    "from selenium.webdriver.common.keys import Keys # Importe les clefs pour les touches du clavier\n",
    "from webdriver_manager.chrome import ChromeDriverManager #Assure la gestion du webdriver de Chrome\n",
    "from time import sleep \n",
    "import time\n",
    "import configparser"
   ]
  },
  {
   "cell_type": "code",
   "execution_count": 2,
   "metadata": {},
   "outputs": [
    {
     "data": {
      "text/plain": [
       "['cred.ini']"
      ]
     },
     "execution_count": 2,
     "metadata": {},
     "output_type": "execute_result"
    }
   ],
   "source": [
    "config = configparser.ConfigParser()\n",
    "config.read('cred.ini')"
   ]
  },
  {
   "cell_type": "code",
   "execution_count": 16,
   "metadata": {},
   "outputs": [],
   "source": [
    "user_value = config.get('Credentials', 'user')\n",
    "password_value = config.get('Credentials', 'mdp')"
   ]
  },
  {
   "cell_type": "code",
   "execution_count": 4,
   "metadata": {},
   "outputs": [
    {
     "name": "stderr",
     "output_type": "stream",
     "text": [
      "[WDM] - Downloading: 100%|██████████| 6.81M/6.81M [00:00<00:00, 29.1MB/s]\n"
     ]
    }
   ],
   "source": [
    "driver = webdriver.Chrome(ChromeDriverManager().install()) # Ouvrir une page Google Chrome\n"
   ]
  },
  {
   "cell_type": "code",
   "execution_count": 5,
   "metadata": {},
   "outputs": [],
   "source": [
    "def scroll(value): #Définition d'une fonction pour scroller automatiquement\n",
    "    for _ in range(20):\n",
    "        driver.execute_script(f\"window.scrollBy(0, {value})\")\n",
    "        time.sleep(0.1) #Temps entre chaque scroll"
   ]
  },
  {
   "cell_type": "code",
   "execution_count": 9,
   "metadata": {},
   "outputs": [],
   "source": [
    "driver.get('https://www.planning-imadis.fr/planning_gestion.php?d=1&t=1548025200') # Ouvrir l'adresse du site web\n",
    "try:\n",
    "    driver.find_element(By.ID, 'W0wltc').click()# accepter les cookies\n",
    "except:\n",
    "    None"
   ]
  },
  {
   "cell_type": "code",
   "execution_count": 14,
   "metadata": {},
   "outputs": [],
   "source": [
    "user=driver.find_element(By.ID, 'user_name')\n",
    "user.send_keys(user_value)\n",
    "user.send_keys(Keys.ENTER)"
   ]
  },
  {
   "cell_type": "code",
   "execution_count": 17,
   "metadata": {},
   "outputs": [],
   "source": [
    "password=driver.find_element(By.ID, 'user_password')\n",
    "password.send_keys(password_value)\n",
    "password.send_keys(Keys.ENTER)"
   ]
  },
  {
   "cell_type": "code",
   "execution_count": 18,
   "metadata": {},
   "outputs": [],
   "source": [
    "try:\n",
    "    button=driver.find_element(By.XPATH, \"//*[@id='wrapper']/nav/div/ul[1]/li/a\")\n",
    "    button.click()\n",
    "except:\n",
    "    None"
   ]
  },
  {
   "cell_type": "code",
   "execution_count": 57,
   "metadata": {},
   "outputs": [],
   "source": [
    "admin=driver.find_element(By.XPATH, \"//*[@id='side-menu']/li[7]/a\")\n",
    "admin.click()"
   ]
  },
  {
   "cell_type": "code",
   "execution_count": 58,
   "metadata": {},
   "outputs": [],
   "source": [
    "tdg=driver.find_element(By.XPATH, \"//*[@id='side-menu']/li[7]/ul/li[3]/a\")\n",
    "tdg.click()"
   ]
  },
  {
   "cell_type": "code",
   "execution_count": 59,
   "metadata": {},
   "outputs": [],
   "source": [
    "scroll(100)"
   ]
  },
  {
   "cell_type": "code",
   "execution_count": 61,
   "metadata": {},
   "outputs": [],
   "source": [
    "#pour telecharger tous les excel du dernier TDG\n",
    "\n",
    "excel=driver.find_element(By.CSS_SELECTOR, '#top > div > table > tbody > tr:nth-child(3) > td:nth-child(7) > button.excel.btn.btn-default.btn-outline.btn-sm')\n",
    "excel.click()\n",
    "time.sleep(1) \n",
    "pds=driver.find_element(By.XPATH, \"//*[@id='excelDpt1']\")\n",
    "pds.click()\n",
    "time.sleep(1)\n",
    "generate=driver.find_element(By.ID, \"generate\")\n",
    "generate.click()\n",
    "time.sleep(1) \n",
    "ao=driver.find_element(By.XPATH, \"//*[@id='excelDpt2']\")\n",
    "ao.click()\n",
    "time.sleep(1)\n",
    "generate=driver.find_element(By.ID, \"generate\")\n",
    "generate.click()\n",
    "time.sleep(1) \n",
    "cds=driver.find_element(By.XPATH, \"//*[@id='excelDpt3']\")\n",
    "cds.click()\n",
    "time.sleep(1)\n",
    "generate=driver.find_element(By.ID, \"generate\")\n",
    "generate.click()\n",
    "time.sleep(1) \n",
    "rru=driver.find_element(By.XPATH, \"//*[@id='excelDpt4']\")\n",
    "rru.click()\n",
    "time.sleep(1)\n",
    "generate=driver.find_element(By.ID, \"generate\")\n",
    "generate.click()\n",
    "time.sleep(1) \n",
    "art=driver.find_element(By.XPATH, \"//*[@id='excelDpt6']\")\n",
    "art.click()\n",
    "time.sleep(1) \n",
    "generate=driver.find_element(By.ID, \"generate\")\n",
    "generate.click()\n",
    "time.sleep(1) \n",
    "\n",
    "close=driver.find_element(By.XPATH, \"//*[@id='excel']/div/div/div[3]/button[1]\")\n",
    "close.click()\n",
    "time.sleep(1) "
   ]
  },
  {
   "cell_type": "code",
   "execution_count": 48,
   "metadata": {},
   "outputs": [],
   "source": [
    "driver.close()"
   ]
  }
 ],
 "metadata": {
  "kernelspec": {
   "display_name": "base",
   "language": "python",
   "name": "python3"
  },
  "language_info": {
   "codemirror_mode": {
    "name": "ipython",
    "version": 3
   },
   "file_extension": ".py",
   "mimetype": "text/x-python",
   "name": "python",
   "nbconvert_exporter": "python",
   "pygments_lexer": "ipython3",
   "version": "3.9.16"
  },
  "orig_nbformat": 4
 },
 "nbformat": 4,
 "nbformat_minor": 2
}
